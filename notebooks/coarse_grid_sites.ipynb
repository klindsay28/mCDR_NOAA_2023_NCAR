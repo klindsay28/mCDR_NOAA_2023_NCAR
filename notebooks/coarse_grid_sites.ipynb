{
 "cells": [
  {
   "cell_type": "code",
   "execution_count": 1,
   "id": "104fba3a-ce52-49c2-9b1e-ea796f6e0210",
   "metadata": {},
   "outputs": [],
   "source": [
    "import copy\n",
    "import math\n",
    "\n",
    "import numpy as np\n",
    "import pop_tools"
   ]
  },
  {
   "cell_type": "markdown",
   "id": "0b15feb8-30c9-4017-a9a9-ec5b60666f12",
   "metadata": {
    "tags": []
   },
   "source": [
    "## load POP grid information\n",
    "## add 3D transformation of tracer points to Dataset, for nearest tracer point determination"
   ]
  },
  {
   "cell_type": "code",
   "execution_count": 2,
   "id": "6e095cb3-e937-4b4e-9a85-d87b5d90e3a6",
   "metadata": {},
   "outputs": [],
   "source": [
    "grid_ds = pop_tools.get_grid(\"POP_gx1v7\")\n",
    "\n",
    "grid_ds[\"xt\"] = np.cos((math.pi / 180.0) * grid_ds[\"TLONG\"]) * np.cos((math.pi / 180.0) * grid_ds[\"TLAT\"])\n",
    "grid_ds[\"yt\"] = np.sin((math.pi / 180.0) * grid_ds[\"TLONG\"]) * np.cos((math.pi / 180.0) * grid_ds[\"TLAT\"])\n",
    "grid_ds[\"zt\"] = np.sin((math.pi / 180.0) * grid_ds[\"TLAT\"])"
   ]
  },
  {
   "cell_type": "markdown",
   "id": "ccb50f84-b873-4b4b-b616-3bd0873ee302",
   "metadata": {},
   "source": [
    "## helper functions"
   ]
  },
  {
   "cell_type": "code",
   "execution_count": 3,
   "id": "91506735-d88b-407a-94e7-94daa8f4dd34",
   "metadata": {},
   "outputs": [],
   "source": [
    "def nearest_t_inds(grid_ds, lat, lon):\n",
    "    \"\"\"return dict of indices of tracer point in grid_ds nearest to (lat, lon)\"\"\"\n",
    "    # nearest point maximizes dot prod of 3D cartesian transformation of tracer points with\n",
    "    # 3D cartesian transformation of (lat, lon)\n",
    "    # fully generic version should account for land-sea mask\n",
    "    # we're ignoring that here because the nearest cell point locations of interest is not land\n",
    "\n",
    "    x = math.cos((math.pi / 180.0) * lon) * math.cos((math.pi / 180.0) * lat)\n",
    "    y = math.sin((math.pi / 180.0) * lon) * math.cos((math.pi / 180.0) * lat)\n",
    "    z = math.sin((math.pi / 180.0) * lat)\n",
    "\n",
    "    dotprod = x * grid_ds[\"xt\"] + y * grid_ds[\"yt\"] + z * grid_ds[\"zt\"]\n",
    "\n",
    "    return dotprod.argmax(...)"
   ]
  },
  {
   "cell_type": "code",
   "execution_count": 4,
   "id": "727ac0ff-f176-4d60-95ba-f92b5331a148",
   "metadata": {},
   "outputs": [],
   "source": [
    "def grid_var_str(grid_ds, varname, inds, **kwargs):\n",
    "    \"\"\"print grid_ds[varname] value at inds+inds_offset\"\"\"\n",
    "    inds_loc = copy.deepcopy(inds)\n",
    "    for key in inds:\n",
    "        inds_loc[key] += kwargs.get(\"inds_offset\", {}).get(key, 0)\n",
    "    varname_str = kwargs.get(\"varname_str\", varname)\n",
    "    scalef = kwargs.get(\"scalef\", 1)\n",
    "    fmt = kwargs.get(\"fmt\", \"0.3f\")\n",
    "    return f\"{varname_str}={scalef*grid_ds[varname].isel(inds_loc).values:{fmt}}\""
   ]
  },
  {
   "cell_type": "code",
   "execution_count": 5,
   "id": "c69fc0c0-0bb9-4c9c-8801-3d1ca9b02be7",
   "metadata": {},
   "outputs": [],
   "source": [
    "def nearest_grid_info_all_vars(grid_ds, lat, lon):\n",
    "    \"\"\"print specific grid info for tracer point nearest to (lat, lon)\"\"\"\n",
    "    inds = nearest_t_inds(grid_ds, lat, lon)\n",
    "    print(\"Cell Info\")\n",
    "    print(\",\".join([\n",
    "        f\"{key}={da.values}\" for key, da in inds.items()\n",
    "    ]))\n",
    "    print(\",\".join([\n",
    "        grid_var_str(grid_ds, \"TLAT\", inds, varname_str=\"lat\"),\n",
    "        grid_var_str(grid_ds, \"TLONG\", inds, varname_str=\"lon\"),\n",
    "    ]))\n",
    "    print(grid_var_str(grid_ds, \"TAREA\", inds, varname_str=\"area(km^2)\", scalef=(1.e-2*1.e-3)**2, fmt=\"0.3e\"))\n",
    "    print(grid_var_str(grid_ds, \"DXT\", inds, varname_str=\"dx(km)\", scalef=1.e-2*1.e-3, fmt=\"0.3e\"))\n",
    "    print(grid_var_str(grid_ds, \"DYT\", inds, varname_str=\"dy(km)\", scalef=1.e-2*1.e-3, fmt=\"0.3e\"))\n",
    "    print(grid_var_str(grid_ds, \"KMT\", inds, fmt=\"0d\"))\n",
    "    print(\"Cell North-East Corner Info\")\n",
    "    print(\",\".join([\n",
    "        grid_var_str(grid_ds, \"ULAT\", inds, varname_str=\"lat\"),\n",
    "        grid_var_str(grid_ds, \"ULONG\", inds, varname_str=\"lon\"),\n",
    "    ]))\n",
    "    print(\"Cell South-East Corner Info\")\n",
    "    inds_offset={\"nlat\": -1}\n",
    "    print(\",\".join([\n",
    "        grid_var_str(grid_ds, \"ULAT\", inds, varname_str=\"lat\", inds_offset=inds_offset),\n",
    "        grid_var_str(grid_ds, \"ULONG\", inds, varname_str=\"lon\", inds_offset=inds_offset),\n",
    "    ]))\n",
    "    print(\"Cell South-West Corner Info\")\n",
    "    inds_offset={\"nlat\": -1, \"nlon\": -1}\n",
    "    print(\",\".join([\n",
    "        grid_var_str(grid_ds, \"ULAT\", inds, varname_str=\"lat\", inds_offset=inds_offset),\n",
    "        grid_var_str(grid_ds, \"ULONG\", inds, varname_str=\"lon\", inds_offset=inds_offset),\n",
    "    ]))\n",
    "    print(\"Cell North-West Corner Info\")\n",
    "    inds_offset={\"nlon\": -1}\n",
    "    print(\",\".join([\n",
    "        grid_var_str(grid_ds, \"ULAT\", inds, varname_str=\"lat\", inds_offset=inds_offset),\n",
    "        grid_var_str(grid_ds, \"ULONG\", inds, varname_str=\"lon\", inds_offset=inds_offset),\n",
    "    ]))\n"
   ]
  },
  {
   "cell_type": "markdown",
   "id": "12a0ea48-233d-4729-955f-ebfa11065e84",
   "metadata": {
    "tags": []
   },
   "source": [
    "## North Pacific SERIES: 50.14°N, 144.75W°"
   ]
  },
  {
   "cell_type": "code",
   "execution_count": 6,
   "id": "5ac0a4e6-dcc6-4814-b87f-f02f70a5e78a",
   "metadata": {},
   "outputs": [
    {
     "name": "stdout",
     "output_type": "stream",
     "text": [
      "Cell Info\n",
      "nlat=310,nlon=224\n",
      "lat=50.283,lon=215.091\n",
      "area(km^2)=5.117e+03\n",
      "dx(km)=8.095e+01\n",
      "dy(km)=6.320e+01\n",
      "KMT=55\n",
      "Cell North-East Corner Info\n",
      "lat=50.513,lon=215.715\n",
      "Cell South-East Corner Info\n",
      "lat=49.951,lon=215.594\n",
      "Cell South-West Corner Info\n",
      "lat=50.049,lon=214.465\n",
      "Cell North-West Corner Info\n",
      "lat=50.613,lon=214.586\n"
     ]
    }
   ],
   "source": [
    "nearest_grid_info_all_vars(grid_ds, lat=50.14, lon=-144.75)"
   ]
  },
  {
   "cell_type": "markdown",
   "id": "19b17e74-47e0-4a9e-ae98-30a6ae247ea2",
   "metadata": {
    "tags": []
   },
   "source": [
    "## Equatorial Pacific IronEx-1: 5°S, 90W°"
   ]
  },
  {
   "cell_type": "code",
   "execution_count": 7,
   "id": "92432f52-1de7-4c5b-86a4-d78dc25bc4cf",
   "metadata": {},
   "outputs": [
    {
     "name": "stdout",
     "output_type": "stream",
     "text": [
      "Cell Info\n",
      "nlat=168,nlon=275\n",
      "lat=-4.942,lon=269.938\n",
      "area(km^2)=3.701e+03\n",
      "dx(km)=1.246e+02\n",
      "dy(km)=2.970e+01\n",
      "KMT=53\n",
      "Cell North-East Corner Info\n",
      "lat=-4.808,lon=270.500\n",
      "Cell South-East Corner Info\n",
      "lat=-5.075,lon=270.500\n",
      "Cell South-West Corner Info\n",
      "lat=-5.075,lon=269.375\n",
      "Cell North-West Corner Info\n",
      "lat=-4.808,lon=269.375\n"
     ]
    }
   ],
   "source": [
    "nearest_grid_info_all_vars(grid_ds, lat=-5, lon=-90)"
   ]
  },
  {
   "cell_type": "markdown",
   "id": "ee7326a6-5c1e-4b77-9ba3-9c637c65e8c7",
   "metadata": {
    "tags": []
   },
   "source": [
    "## Southern Ocean SOFeX-N: 56.23°S, 172W°"
   ]
  },
  {
   "cell_type": "code",
   "execution_count": 8,
   "id": "e2348155-7bb3-4831-bab2-4ab05e24482d",
   "metadata": {},
   "outputs": [
    {
     "name": "stdout",
     "output_type": "stream",
     "text": [
      "Cell Info\n",
      "nlat=43,nlon=202\n",
      "lat=-56.249,lon=187.813\n",
      "area(km^2)=4.127e+03\n",
      "dx(km)=6.949e+01\n",
      "dy(km)=5.940e+01\n",
      "KMT=58\n",
      "Cell North-East Corner Info\n",
      "lat=-55.981,lon=188.375\n",
      "Cell South-East Corner Info\n",
      "lat=-56.515,lon=188.375\n",
      "Cell South-West Corner Info\n",
      "lat=-56.515,lon=187.250\n",
      "Cell North-West Corner Info\n",
      "lat=-55.981,lon=187.250\n"
     ]
    }
   ],
   "source": [
    "nearest_grid_info_all_vars(grid_ds, lat=-56.23, lon=-172)"
   ]
  },
  {
   "cell_type": "markdown",
   "id": "3633c60e-435c-4682-b4ce-43771656db28",
   "metadata": {
    "tags": []
   },
   "source": [
    "## Southern Ocean SOFeX-S: 66.45°S, 171.8W°"
   ]
  },
  {
   "cell_type": "code",
   "execution_count": 9,
   "id": "7980ae27-a5bb-48d8-88e5-e13ff64b3b93",
   "metadata": {},
   "outputs": [
    {
     "name": "stdout",
     "output_type": "stream",
     "text": [
      "Cell Info\n",
      "nlat=24,nlon=202\n",
      "lat=-66.399,lon=187.813\n",
      "area(km^2)=2.974e+03\n",
      "dx(km)=5.008e+01\n",
      "dy(km)=5.940e+01\n",
      "KMT=50\n",
      "Cell North-East Corner Info\n",
      "lat=-66.131,lon=188.375\n",
      "Cell South-East Corner Info\n",
      "lat=-66.665,lon=188.375\n",
      "Cell South-West Corner Info\n",
      "lat=-66.665,lon=187.250\n",
      "Cell North-West Corner Info\n",
      "lat=-66.131,lon=187.250\n"
     ]
    }
   ],
   "source": [
    "nearest_grid_info_all_vars(grid_ds, lat=-66.45, lon=-171.8)"
   ]
  },
  {
   "cell_type": "code",
   "execution_count": null,
   "id": "a81165ec-7129-43af-a61f-45c59fcd3d63",
   "metadata": {},
   "outputs": [],
   "source": []
  }
 ],
 "metadata": {
  "kernelspec": {
   "display_name": "Python [conda env:miniconda3-mCDR_NOAA_2023_NCAR]",
   "language": "python",
   "name": "conda-env-miniconda3-mCDR_NOAA_2023_NCAR-py"
  },
  "language_info": {
   "codemirror_mode": {
    "name": "ipython",
    "version": 3
   },
   "file_extension": ".py",
   "mimetype": "text/x-python",
   "name": "python",
   "nbconvert_exporter": "python",
   "pygments_lexer": "ipython3",
   "version": "3.11.6"
  }
 },
 "nbformat": 4,
 "nbformat_minor": 5
}
